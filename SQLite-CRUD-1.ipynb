{
 "cells": [
  {
   "cell_type": "markdown",
   "id": "6f7f253f-102f-42b1-9964-67190b67405a",
   "metadata": {},
   "source": [
    "# Example 1 - Creating a new Database"
   ]
  },
  {
   "cell_type": "markdown",
   "id": "ed10a2c5-819b-468a-b33b-3b280b4de820",
   "metadata": {},
   "source": [
    "In this first notebook we are goind to work using the SQLite module for Python3. This is a very beginner-friendly tool to learn the first steps with SQL."
   ]
  },
  {
   "cell_type": "code",
   "execution_count": 28,
   "id": "227212cf-e390-4a56-9ee8-01e54c52c6db",
   "metadata": {},
   "outputs": [
    {
     "name": "stdout",
     "output_type": "stream",
     "text": [
      "Opened database successfully\n",
      "Table created successfully!\n"
     ]
    }
   ],
   "source": [
    "import sqlite3\n",
    "\n",
    "conn = sqlite3.connect('test.db')\n",
    "print (\"Opened database successfully\");\n",
    "\n",
    "try:\n",
    "    conn.execute('''\n",
    "            CREATE TABLE COMPANY\n",
    "             (ID         INT PRIMARY KEY   NOT NULL,\n",
    "             NAME        TEXT              NOT NULL,\n",
    "             AGE         INT               NOT NULL,\n",
    "             ADDRESS     CHAR(50),\n",
    "             SALARY      REAL);\n",
    "        ''')\n",
    "    print(\"Table created successfully!\")\n",
    "except:\n",
    "    print(\"The table could not be created. Please check if it already exists!\")\n",
    "conn.close()"
   ]
  },
  {
   "cell_type": "markdown",
   "id": "b712ad23-7753-4482-8d14-3664ef84aca0",
   "metadata": {},
   "source": [
    "Adding single lines of data to our brand-new table. All the commands just need to be written using SQL statements and executed via the execute() function."
   ]
  },
  {
   "cell_type": "code",
   "execution_count": 29,
   "id": "4d7a2b67-e045-41e3-8feb-90f41099a520",
   "metadata": {},
   "outputs": [
    {
     "name": "stdout",
     "output_type": "stream",
     "text": [
      "Opened database successfully\n",
      "Records created successfully\n"
     ]
    }
   ],
   "source": [
    "conn = sqlite3.connect('test.db')\n",
    "print (\"Opened database successfully\");\n",
    "\n",
    "conn.execute(\"INSERT INTO COMPANY (ID,NAME,AGE,ADDRESS,SALARY) \\\n",
    "    VALUES (1, 'George', 30, 'New York', 32000.00 )\")\n",
    "\n",
    "conn.execute(\"INSERT INTO COMPANY (ID,NAME,AGE,ADDRESS,SALARY) \\\n",
    "    VALUES (2, 'Paul', 28, 'Delaware', 25000.00 )\")\n",
    "\n",
    "conn.execute(\"INSERT INTO COMPANY (ID,NAME,AGE,ADDRESS,SALARY) \\\n",
    "    VALUES (3, 'David', 19, 'Kansas', 18000.00 )\")\n",
    "\n",
    "conn.execute(\"INSERT INTO COMPANY (ID,NAME,AGE,ADDRESS,SALARY) \\\n",
    "    VALUES (4, 'Steven', 31, 'Florida', 50000.00 )\")\n",
    "\n",
    "conn.execute(\"INSERT INTO COMPANY (ID,NAME,AGE,ADDRESS,SALARY) \\\n",
    "    VALUES (5, 'John', 27, 'Colorado', 30000.00 )\")\n",
    "\n",
    "conn.commit()\n",
    "print (\"Records created successfully\");\n",
    "conn.close()"
   ]
  },
  {
   "cell_type": "markdown",
   "id": "da220765-b13e-4081-9950-e2a136b65cd8",
   "metadata": {},
   "source": [
    "The new data do not need to be added by single execute() calls, but a longer SQL statement can be used."
   ]
  },
  {
   "cell_type": "code",
   "execution_count": 30,
   "id": "6c0d093d-0292-4a18-8940-b705f1311cf7",
   "metadata": {},
   "outputs": [
    {
     "name": "stdout",
     "output_type": "stream",
     "text": [
      "Opened database successfully\n",
      "Records created successfully\n"
     ]
    }
   ],
   "source": [
    "conn = sqlite3.connect('test.db')\n",
    "print (\"Opened database successfully\");\n",
    "\n",
    "conn.execute('''\n",
    "    INSERT INTO COMPANY (ID,NAME,AGE,ADDRESS,SALARY)\n",
    "    VALUES (6, 'Mary', 28, 'Maryland', 35000.00 ),\n",
    "           (7, 'Jefferson', 22, 'Minnesota', 31000.00 ),\n",
    "           (8, 'John', 27, 'Colorado', 30000.00 ),\n",
    "           (9, 'Kim', 29, 'Michigan', 43000.00 ),\n",
    "           (10, 'Anne', 25, 'New York', 25000.00 )\n",
    "''')\n",
    "\n",
    "conn.commit()\n",
    "print (\"Records created successfully\");"
   ]
  },
  {
   "cell_type": "markdown",
   "id": "2f658a5c-cdef-4268-b7e7-b05e0d578401",
   "metadata": {},
   "source": [
    "Let's see how our table is becoming:"
   ]
  },
  {
   "cell_type": "code",
   "execution_count": 31,
   "id": "e088699a-c6b9-41ec-8d11-00988ce11b46",
   "metadata": {},
   "outputs": [
    {
     "name": "stdout",
     "output_type": "stream",
     "text": [
      "Opened database successfully\n",
      "(1, 'George', 30, 'New York', 32000.0)\n",
      "(2, 'Paul', 28, 'Delaware', 25000.0)\n",
      "(3, 'David', 19, 'Kansas', 18000.0)\n",
      "(4, 'Steven', 31, 'Florida', 50000.0)\n",
      "(5, 'John', 27, 'Colorado', 30000.0)\n",
      "(6, 'Mary', 28, 'Maryland', 35000.0)\n",
      "(7, 'Jefferson', 22, 'Minnesota', 31000.0)\n",
      "(8, 'John', 27, 'Colorado', 30000.0)\n",
      "(9, 'Kim', 29, 'Michigan', 43000.0)\n",
      "(10, 'Anne', 25, 'New York', 25000.0)\n"
     ]
    }
   ],
   "source": [
    "conn = sqlite3.connect('test.db')\n",
    "print (\"Opened database successfully\");\n",
    "\n",
    "cursor = conn.execute(\"SELECT * FROM COMPANY\")\n",
    "for row in cursor:\n",
    "    print(row)\n",
    "\n",
    "conn.close()"
   ]
  },
  {
   "cell_type": "markdown",
   "id": "8fd57f41-47e4-4ddc-8b78-87493b04dbca",
   "metadata": {},
   "source": [
    "We can also use the UPDATE statement to change values in a table of a database."
   ]
  },
  {
   "cell_type": "code",
   "execution_count": 32,
   "id": "69b49976-9411-4524-abab-a99191df2ccd",
   "metadata": {},
   "outputs": [
    {
     "name": "stdout",
     "output_type": "stream",
     "text": [
      "Opened database successfully\n",
      "Total number of rows updated : 1\n",
      "(1, 'George', 'New York', 35000.0)\n",
      "(2, 'Paul', 'Delaware', 25000.0)\n",
      "(3, 'David', 'Kansas', 18000.0)\n",
      "(4, 'Steven', 'Florida', 50000.0)\n",
      "(5, 'John', 'Colorado', 30000.0)\n",
      "(6, 'Mary', 'Maryland', 35000.0)\n",
      "(7, 'Jefferson', 'Minnesota', 31000.0)\n",
      "(8, 'John', 'Colorado', 30000.0)\n",
      "(9, 'Kim', 'Michigan', 43000.0)\n",
      "(10, 'Anne', 'New York', 25000.0)\n"
     ]
    }
   ],
   "source": [
    "conn = sqlite3.connect('test.db')\n",
    "print (\"Opened database successfully\");\n",
    "\n",
    "conn.execute(\"UPDATE COMPANY set SALARY = 35000.00 where ID = 1\")\n",
    "conn.commit()\n",
    "print (\"Total number of rows updated :\", conn.total_changes)\n",
    "\n",
    "cursor = conn.execute(\"SELECT id, name, address, salary from COMPANY\")\n",
    "for row in cursor:\n",
    "    print (row)\n",
    "\n",
    "conn.close()"
   ]
  },
  {
   "cell_type": "markdown",
   "id": "c91bca19-8e99-453e-bed3-6ac311e0b61f",
   "metadata": {},
   "source": [
    "Finally, the DELETE statement being used to remove a row from the table."
   ]
  },
  {
   "cell_type": "code",
   "execution_count": 33,
   "id": "86e891a8-7f71-4e1d-8332-3fc18482edf1",
   "metadata": {},
   "outputs": [
    {
     "name": "stdout",
     "output_type": "stream",
     "text": [
      "Opened database successfully\n",
      "Total number of rows deleted : 1\n",
      "(1, 'George', 'New York', 35000.0)\n",
      "(3, 'David', 'Kansas', 18000.0)\n",
      "(4, 'Steven', 'Florida', 50000.0)\n",
      "(5, 'John', 'Colorado', 30000.0)\n",
      "(6, 'Mary', 'Maryland', 35000.0)\n",
      "(7, 'Jefferson', 'Minnesota', 31000.0)\n",
      "(8, 'John', 'Colorado', 30000.0)\n",
      "(9, 'Kim', 'Michigan', 43000.0)\n",
      "(10, 'Anne', 'New York', 25000.0)\n"
     ]
    }
   ],
   "source": [
    "conn = sqlite3.connect('test.db')\n",
    "print (\"Opened database successfully\");\n",
    "\n",
    "conn.execute(\"DELETE from COMPANY where ID = 2;\")\n",
    "conn.commit()\n",
    "print (\"Total number of rows deleted :\", conn.total_changes)\n",
    "\n",
    "cursor = conn.execute(\"SELECT id, name, address, salary from COMPANY\")\n",
    "for row in cursor:\n",
    "    print (row)\n",
    "\n",
    "conn.close()"
   ]
  },
  {
   "cell_type": "markdown",
   "id": "2976fed6-99e3-4336-9636-33d53edbf154",
   "metadata": {},
   "source": [
    "Iterating through the SQL cursor allow us to access the data like it was a Python tuple:"
   ]
  },
  {
   "cell_type": "code",
   "execution_count": 34,
   "id": "eb07934c-7ab6-45c1-b008-5a965439d6cb",
   "metadata": {},
   "outputs": [
    {
     "name": "stdout",
     "output_type": "stream",
     "text": [
      "Opened database successfully\n",
      "ID =  1\n",
      "NAME =  George\n",
      "ADDRESS =  New York\n",
      "SALARY =  35000.0 \n",
      "\n",
      "ID =  3\n",
      "NAME =  David\n",
      "ADDRESS =  Kansas\n",
      "SALARY =  18000.0 \n",
      "\n",
      "ID =  4\n",
      "NAME =  Steven\n",
      "ADDRESS =  Florida\n",
      "SALARY =  50000.0 \n",
      "\n",
      "ID =  5\n",
      "NAME =  John\n",
      "ADDRESS =  Colorado\n",
      "SALARY =  30000.0 \n",
      "\n",
      "ID =  6\n",
      "NAME =  Mary\n",
      "ADDRESS =  Maryland\n",
      "SALARY =  35000.0 \n",
      "\n",
      "ID =  7\n",
      "NAME =  Jefferson\n",
      "ADDRESS =  Minnesota\n",
      "SALARY =  31000.0 \n",
      "\n",
      "ID =  8\n",
      "NAME =  John\n",
      "ADDRESS =  Colorado\n",
      "SALARY =  30000.0 \n",
      "\n",
      "ID =  9\n",
      "NAME =  Kim\n",
      "ADDRESS =  Michigan\n",
      "SALARY =  43000.0 \n",
      "\n",
      "ID =  10\n",
      "NAME =  Anne\n",
      "ADDRESS =  New York\n",
      "SALARY =  25000.0 \n",
      "\n"
     ]
    }
   ],
   "source": [
    "conn = sqlite3.connect('test.db')\n",
    "print (\"Opened database successfully\");\n",
    "\n",
    "cursor = conn.execute(\"SELECT id, name, address, salary from COMPANY\")\n",
    "for row in cursor:\n",
    "    print (\"ID = \", row[0])\n",
    "    print (\"NAME = \", row[1])\n",
    "    print (\"ADDRESS = \", row[2])\n",
    "    print (\"SALARY = \", row[3], \"\\n\")\n",
    "\n",
    "conn.close()"
   ]
  },
  {
   "cell_type": "markdown",
   "id": "e70c2eaf-95e8-433a-9588-69ae9b36ae17",
   "metadata": {},
   "source": [
    "# Example 2 - Creating and viewing a Database using Faker and Pandas"
   ]
  },
  {
   "cell_type": "markdown",
   "id": "02091626-6eff-4312-8c95-2345b250657a",
   "metadata": {},
   "source": [
    "We will now create a bigger database using the Faker module and see how pandas module can receive a SQL cursor and generate a DataFrame automatically from it.\n",
    "\n",
    "Users may need to run the respective pip install commands:\n",
    "\n",
    "pip install pandas\n",
    "\n",
    "pip install Faker\n"
   ]
  },
  {
   "cell_type": "markdown",
   "id": "bdd403f2-c24f-4622-851c-136b7726d063",
   "metadata": {},
   "source": [
    "## Generating Fake Data"
   ]
  },
  {
   "cell_type": "markdown",
   "id": "6c3a91d2-fbc9-444b-9215-f5561727c4d2",
   "metadata": {},
   "source": [
    "We will use Faker to generate fake data to fill our table. This process may take some time if the number of rows to be generated was set to great values. \n",
    "\n",
    "To make it faster and at the same time get a bigger volume of data, we will generate 50.000 data rows to our database."
   ]
  },
  {
   "cell_type": "code",
   "execution_count": 35,
   "id": "c7972055-e134-4b43-aa4c-7a699f78ae96",
   "metadata": {},
   "outputs": [],
   "source": [
    "from faker import Faker\n",
    "import random\n",
    "\n",
    "QTY_OF_DATA_TO_GENERATE_IT = 10_000 # Italy\n",
    "QTY_OF_DATA_TO_GENERATE_US =  8_000 # USA\n",
    "QTY_OF_DATA_TO_GENERATE_BR = 15_000 # Brazil\n",
    "QTY_OF_DATA_TO_GENERATE_AR = 10_000 # Argentina\n",
    "QTY_OF_DATA_TO_GENERATE_FR =  7_000 # France\n",
    "TOTAL_DATA_SIZE = (\n",
    "    QTY_OF_DATA_TO_GENERATE_IT+\n",
    "    QTY_OF_DATA_TO_GENERATE_IT+\n",
    "    QTY_OF_DATA_TO_GENERATE_IT+\n",
    "    QTY_OF_DATA_TO_GENERATE_IT+\n",
    "    QTY_OF_DATA_TO_GENERATE_IT\n",
    ")\n",
    "\n",
    "id_base_val = 0\n",
    "\n",
    "fake = Faker(\"it_IT\")\n",
    "data = [[i, fake.name(), random.randint(18, 70), fake.address().replace(\"\\n\", \" - \")]\n",
    "        for i in range(id_base_val, QTY_OF_DATA_TO_GENERATE_IT)\n",
    "    ]\n",
    "id_base_val += QTY_OF_DATA_TO_GENERATE_IT\n",
    "\n",
    "fake = Faker(\"en_US\")\n",
    "data.extend(\n",
    "    [[i, fake.name(), random.randint(18, 70), fake.address().replace(\"\\n\", \" - \")]\n",
    "     for i in range(id_base_val, QTY_OF_DATA_TO_GENERATE_US+id_base_val)]\n",
    ")\n",
    "id_base_val += QTY_OF_DATA_TO_GENERATE_US\n",
    "\n",
    "fake = Faker(\"pt_BR\")\n",
    "data.extend(\n",
    "    [[i, fake.name(), random.randint(18, 70), fake.address().replace(\"\\n\", \" - \")]\n",
    "     for i in range(id_base_val, QTY_OF_DATA_TO_GENERATE_BR+id_base_val)]\n",
    ")\n",
    "id_base_val += QTY_OF_DATA_TO_GENERATE_BR\n",
    "\n",
    "fake = Faker(\"es_AR\")\n",
    "data.extend(\n",
    "    [[i, fake.name(), random.randint(18, 70), fake.address().replace(\"\\n\", \" - \")]\n",
    "     for i in range(id_base_val, QTY_OF_DATA_TO_GENERATE_AR+id_base_val)]\n",
    ")\n",
    "id_base_val += QTY_OF_DATA_TO_GENERATE_AR\n",
    "\n",
    "fake = Faker(\"fr_FR\")\n",
    "data.extend(\n",
    "    [[i, fake.name(), random.randint(18, 70), fake.address().replace(\"\\n\", \" - \")]\n",
    "     for i in range(id_base_val, QTY_OF_DATA_TO_GENERATE_FR+id_base_val)]\n",
    ")\n",
    "id_base_val += QTY_OF_DATA_TO_GENERATE_FR\n",
    "\n",
    "random.shuffle(data)\n",
    "\n",
    "for i in range(TOTAL_DATA_SIZE):\n",
    "    data[i][0] = i\n"
   ]
  },
  {
   "cell_type": "markdown",
   "id": "e32da4dd-9314-47cb-b895-5aa1b39e339c",
   "metadata": {},
   "source": [
    "## Viewing the data in a pandas DataFrame"
   ]
  },
  {
   "cell_type": "markdown",
   "id": "212aa546-6792-483e-a65e-9fd0b5396e34",
   "metadata": {},
   "source": [
    "Before adding it to the SQL database, let's see how our data looks in a DataFrame"
   ]
  },
  {
   "cell_type": "code",
   "execution_count": 36,
   "id": "2c7f363c-aa2a-48ac-ac07-3af5e72aaa67",
   "metadata": {},
   "outputs": [
    {
     "data": {
      "text/html": [
       "<div>\n",
       "<style scoped>\n",
       "    .dataframe tbody tr th:only-of-type {\n",
       "        vertical-align: middle;\n",
       "    }\n",
       "\n",
       "    .dataframe tbody tr th {\n",
       "        vertical-align: top;\n",
       "    }\n",
       "\n",
       "    .dataframe thead th {\n",
       "        text-align: right;\n",
       "    }\n",
       "</style>\n",
       "<table border=\"1\" class=\"dataframe\">\n",
       "  <thead>\n",
       "    <tr style=\"text-align: right;\">\n",
       "      <th></th>\n",
       "      <th>Name</th>\n",
       "      <th>Age</th>\n",
       "      <th>Address</th>\n",
       "    </tr>\n",
       "    <tr>\n",
       "      <th>ID</th>\n",
       "      <th></th>\n",
       "      <th></th>\n",
       "      <th></th>\n",
       "    </tr>\n",
       "  </thead>\n",
       "  <tbody>\n",
       "    <tr>\n",
       "      <th>0</th>\n",
       "      <td>Patricia Mcmillan</td>\n",
       "      <td>43</td>\n",
       "      <td>05464 Julie Road - East Brandon, DE 90761</td>\n",
       "    </tr>\n",
       "    <tr>\n",
       "      <th>1</th>\n",
       "      <td>Jeannine Devaux</td>\n",
       "      <td>64</td>\n",
       "      <td>boulevard de Hardy - 49315 Torresboeuf</td>\n",
       "    </tr>\n",
       "    <tr>\n",
       "      <th>2</th>\n",
       "      <td>Sr. Raul Nascimento</td>\n",
       "      <td>42</td>\n",
       "      <td>Setor Elisa Lima, 83 - Solimoes - 77856356 Roc...</td>\n",
       "    </tr>\n",
       "    <tr>\n",
       "      <th>3</th>\n",
       "      <td>Maria Eduarda da Mata</td>\n",
       "      <td>45</td>\n",
       "      <td>Aeroporto Pinto, 535 - Prado - 03176671 Cavalc...</td>\n",
       "    </tr>\n",
       "    <tr>\n",
       "      <th>4</th>\n",
       "      <td>Laís da Rocha</td>\n",
       "      <td>22</td>\n",
       "      <td>Área Valentina Vieira, 4 - Vila Nova Paraíso -...</td>\n",
       "    </tr>\n",
       "    <tr>\n",
       "      <th>5</th>\n",
       "      <td>Thomas Vieira</td>\n",
       "      <td>34</td>\n",
       "      <td>Via da Conceição, 351 - Vila Oeste - 54237-999...</td>\n",
       "    </tr>\n",
       "    <tr>\n",
       "      <th>6</th>\n",
       "      <td>Capucine Coulon</td>\n",
       "      <td>49</td>\n",
       "      <td>11, rue de Rey - 93908 Sainte Paul-sur-Mer</td>\n",
       "    </tr>\n",
       "    <tr>\n",
       "      <th>7</th>\n",
       "      <td>Inès Rolland du Valette</td>\n",
       "      <td>51</td>\n",
       "      <td>1, boulevard Pons - 31349 Hebertnec</td>\n",
       "    </tr>\n",
       "    <tr>\n",
       "      <th>8</th>\n",
       "      <td>Stephany Costa</td>\n",
       "      <td>41</td>\n",
       "      <td>Núcleo Nascimento, 83 - Novo São Lucas - 38386...</td>\n",
       "    </tr>\n",
       "    <tr>\n",
       "      <th>9</th>\n",
       "      <td>Martina Romero Ramirez</td>\n",
       "      <td>69</td>\n",
       "      <td>Calle 163 Bis N° 5638 Local 94 - Resistencia 3...</td>\n",
       "    </tr>\n",
       "  </tbody>\n",
       "</table>\n",
       "</div>"
      ],
      "text/plain": [
       "                       Name  Age  \\\n",
       "ID                                 \n",
       "0         Patricia Mcmillan   43   \n",
       "1           Jeannine Devaux   64   \n",
       "2       Sr. Raul Nascimento   42   \n",
       "3     Maria Eduarda da Mata   45   \n",
       "4             Laís da Rocha   22   \n",
       "5             Thomas Vieira   34   \n",
       "6           Capucine Coulon   49   \n",
       "7   Inès Rolland du Valette   51   \n",
       "8            Stephany Costa   41   \n",
       "9    Martina Romero Ramirez   69   \n",
       "\n",
       "                                              Address  \n",
       "ID                                                     \n",
       "0           05464 Julie Road - East Brandon, DE 90761  \n",
       "1              boulevard de Hardy - 49315 Torresboeuf  \n",
       "2   Setor Elisa Lima, 83 - Solimoes - 77856356 Roc...  \n",
       "3   Aeroporto Pinto, 535 - Prado - 03176671 Cavalc...  \n",
       "4   Área Valentina Vieira, 4 - Vila Nova Paraíso -...  \n",
       "5   Via da Conceição, 351 - Vila Oeste - 54237-999...  \n",
       "6          11, rue de Rey - 93908 Sainte Paul-sur-Mer  \n",
       "7                 1, boulevard Pons - 31349 Hebertnec  \n",
       "8   Núcleo Nascimento, 83 - Novo São Lucas - 38386...  \n",
       "9   Calle 163 Bis N° 5638 Local 94 - Resistencia 3...  "
      ]
     },
     "execution_count": 36,
     "metadata": {},
     "output_type": "execute_result"
    }
   ],
   "source": [
    "import pandas as pd\n",
    "\n",
    "df = pd.DataFrame(data, columns=[\"ID\", \"Name\", \"Age\", \"Address\"])\n",
    "df.set_index(\"ID\", inplace=True)\n",
    "\n",
    "df.head(10)"
   ]
  },
  {
   "cell_type": "markdown",
   "id": "8bce67e1-31ff-43b3-9c8a-41d3d6909c6e",
   "metadata": {},
   "source": [
    "## Creating the new database"
   ]
  },
  {
   "cell_type": "markdown",
   "id": "ebc67748-7aa8-4beb-95de-450319758ebc",
   "metadata": {},
   "source": [
    "We're now going to create a new database and table to include our fake data"
   ]
  },
  {
   "cell_type": "code",
   "execution_count": 37,
   "id": "c0e5c419-3950-45a3-a49a-54e7bf264894",
   "metadata": {},
   "outputs": [
    {
     "name": "stdout",
     "output_type": "stream",
     "text": [
      "Table created successfully!\n",
      "Records created successfully\n"
     ]
    }
   ],
   "source": [
    "import sqlite3\n",
    "\n",
    "conn = sqlite3.connect('biggerDB.db')\n",
    "try:\n",
    "    conn.execute('''\n",
    "            CREATE TABLE USERS\n",
    "             (ID         INT PRIMARY KEY   NOT NULL,\n",
    "             NAME        TEXT              NOT NULL,\n",
    "             AGE         INT               NOT NULL,\n",
    "             ADDRESS     CHAR(50));\n",
    "        ''')\n",
    "    print(\"Table created successfully!\")\n",
    "except:\n",
    "    print(\"Table not created!\")\n",
    "\n",
    "try:\n",
    "    valuesString = [\"({}, \\\"{}\\\", {}, \\\"{}\\\")\".format(row[0], row[1], row[2], row[3]) for row in data]\n",
    "    valuesString = \",\".join(valuesString)\n",
    "\n",
    "    insertString = \"INSERT INTO USERS (ID,NAME,AGE, ADDRESS)\\n VALUES \" + valuesString\n",
    "\n",
    "    conn.execute(insertString)\n",
    "    conn.commit()\n",
    "    print (\"Records created successfully\")\n",
    "except:\n",
    "    print(\"Data not included in the table!\")\n",
    "\n",
    "conn.close()"
   ]
  },
  {
   "cell_type": "markdown",
   "id": "3d94d825-4494-4a63-8eb6-1da59e0e055a",
   "metadata": {},
   "source": [
    "Pandas DataFrame can receive a cursor from SQL as argument. One may notice this is exactly the same DataFrame we build using the original data in lists."
   ]
  },
  {
   "cell_type": "code",
   "execution_count": 38,
   "id": "619c6d21-b7a7-41d9-b4f3-85728d632107",
   "metadata": {},
   "outputs": [
    {
     "data": {
      "text/html": [
       "<div>\n",
       "<style scoped>\n",
       "    .dataframe tbody tr th:only-of-type {\n",
       "        vertical-align: middle;\n",
       "    }\n",
       "\n",
       "    .dataframe tbody tr th {\n",
       "        vertical-align: top;\n",
       "    }\n",
       "\n",
       "    .dataframe thead th {\n",
       "        text-align: right;\n",
       "    }\n",
       "</style>\n",
       "<table border=\"1\" class=\"dataframe\">\n",
       "  <thead>\n",
       "    <tr style=\"text-align: right;\">\n",
       "      <th></th>\n",
       "      <th>Name</th>\n",
       "      <th>Age</th>\n",
       "      <th>Address</th>\n",
       "    </tr>\n",
       "    <tr>\n",
       "      <th>ID</th>\n",
       "      <th></th>\n",
       "      <th></th>\n",
       "      <th></th>\n",
       "    </tr>\n",
       "  </thead>\n",
       "  <tbody>\n",
       "    <tr>\n",
       "      <th>0</th>\n",
       "      <td>Patricia Mcmillan</td>\n",
       "      <td>43</td>\n",
       "      <td>05464 Julie Road - East Brandon, DE 90761</td>\n",
       "    </tr>\n",
       "    <tr>\n",
       "      <th>1</th>\n",
       "      <td>Jeannine Devaux</td>\n",
       "      <td>64</td>\n",
       "      <td>boulevard de Hardy - 49315 Torresboeuf</td>\n",
       "    </tr>\n",
       "    <tr>\n",
       "      <th>2</th>\n",
       "      <td>Sr. Raul Nascimento</td>\n",
       "      <td>42</td>\n",
       "      <td>Setor Elisa Lima, 83 - Solimoes - 77856356 Roc...</td>\n",
       "    </tr>\n",
       "    <tr>\n",
       "      <th>3</th>\n",
       "      <td>Maria Eduarda da Mata</td>\n",
       "      <td>45</td>\n",
       "      <td>Aeroporto Pinto, 535 - Prado - 03176671 Cavalc...</td>\n",
       "    </tr>\n",
       "    <tr>\n",
       "      <th>4</th>\n",
       "      <td>Laís da Rocha</td>\n",
       "      <td>22</td>\n",
       "      <td>Área Valentina Vieira, 4 - Vila Nova Paraíso -...</td>\n",
       "    </tr>\n",
       "    <tr>\n",
       "      <th>5</th>\n",
       "      <td>Thomas Vieira</td>\n",
       "      <td>34</td>\n",
       "      <td>Via da Conceição, 351 - Vila Oeste - 54237-999...</td>\n",
       "    </tr>\n",
       "    <tr>\n",
       "      <th>6</th>\n",
       "      <td>Capucine Coulon</td>\n",
       "      <td>49</td>\n",
       "      <td>11, rue de Rey - 93908 Sainte Paul-sur-Mer</td>\n",
       "    </tr>\n",
       "    <tr>\n",
       "      <th>7</th>\n",
       "      <td>Inès Rolland du Valette</td>\n",
       "      <td>51</td>\n",
       "      <td>1, boulevard Pons - 31349 Hebertnec</td>\n",
       "    </tr>\n",
       "    <tr>\n",
       "      <th>8</th>\n",
       "      <td>Stephany Costa</td>\n",
       "      <td>41</td>\n",
       "      <td>Núcleo Nascimento, 83 - Novo São Lucas - 38386...</td>\n",
       "    </tr>\n",
       "    <tr>\n",
       "      <th>9</th>\n",
       "      <td>Martina Romero Ramirez</td>\n",
       "      <td>69</td>\n",
       "      <td>Calle 163 Bis N° 5638 Local 94 - Resistencia 3...</td>\n",
       "    </tr>\n",
       "  </tbody>\n",
       "</table>\n",
       "</div>"
      ],
      "text/plain": [
       "                       Name  Age  \\\n",
       "ID                                 \n",
       "0         Patricia Mcmillan   43   \n",
       "1           Jeannine Devaux   64   \n",
       "2       Sr. Raul Nascimento   42   \n",
       "3     Maria Eduarda da Mata   45   \n",
       "4             Laís da Rocha   22   \n",
       "5             Thomas Vieira   34   \n",
       "6           Capucine Coulon   49   \n",
       "7   Inès Rolland du Valette   51   \n",
       "8            Stephany Costa   41   \n",
       "9    Martina Romero Ramirez   69   \n",
       "\n",
       "                                              Address  \n",
       "ID                                                     \n",
       "0           05464 Julie Road - East Brandon, DE 90761  \n",
       "1              boulevard de Hardy - 49315 Torresboeuf  \n",
       "2   Setor Elisa Lima, 83 - Solimoes - 77856356 Roc...  \n",
       "3   Aeroporto Pinto, 535 - Prado - 03176671 Cavalc...  \n",
       "4   Área Valentina Vieira, 4 - Vila Nova Paraíso -...  \n",
       "5   Via da Conceição, 351 - Vila Oeste - 54237-999...  \n",
       "6          11, rue de Rey - 93908 Sainte Paul-sur-Mer  \n",
       "7                 1, boulevard Pons - 31349 Hebertnec  \n",
       "8   Núcleo Nascimento, 83 - Novo São Lucas - 38386...  \n",
       "9   Calle 163 Bis N° 5638 Local 94 - Resistencia 3...  "
      ]
     },
     "execution_count": 38,
     "metadata": {},
     "output_type": "execute_result"
    }
   ],
   "source": [
    "conn = sqlite3.connect('biggerDB.db')\n",
    "cursor = conn.execute(\"SELECT * FROM USERS\")\n",
    "\n",
    "new_df = pd.DataFrame(cursor, columns=[\"ID\", \"Name\", \"Age\", \"Address\"])\n",
    "new_df.set_index(\"ID\", inplace=True)\n",
    "\n",
    "new_df.head(10)"
   ]
  },
  {
   "cell_type": "code",
   "execution_count": 39,
   "id": "5a4d7ba0-9a2b-4335-ba85-a61a88f43eee",
   "metadata": {},
   "outputs": [
    {
     "data": {
      "text/html": [
       "<div>\n",
       "<style scoped>\n",
       "    .dataframe tbody tr th:only-of-type {\n",
       "        vertical-align: middle;\n",
       "    }\n",
       "\n",
       "    .dataframe tbody tr th {\n",
       "        vertical-align: top;\n",
       "    }\n",
       "\n",
       "    .dataframe thead th {\n",
       "        text-align: right;\n",
       "    }\n",
       "</style>\n",
       "<table border=\"1\" class=\"dataframe\">\n",
       "  <thead>\n",
       "    <tr style=\"text-align: right;\">\n",
       "      <th></th>\n",
       "      <th>Name</th>\n",
       "      <th>Age</th>\n",
       "      <th>Address</th>\n",
       "    </tr>\n",
       "    <tr>\n",
       "      <th>ID</th>\n",
       "      <th></th>\n",
       "      <th></th>\n",
       "      <th></th>\n",
       "    </tr>\n",
       "  </thead>\n",
       "  <tbody>\n",
       "    <tr>\n",
       "      <th>0</th>\n",
       "      <td>Patricia Mcmillan</td>\n",
       "      <td>43</td>\n",
       "      <td>05464 Julie Road - East Brandon, DE 90761</td>\n",
       "    </tr>\n",
       "    <tr>\n",
       "      <th>1</th>\n",
       "      <td>Jeannine Devaux</td>\n",
       "      <td>64</td>\n",
       "      <td>boulevard de Hardy - 49315 Torresboeuf</td>\n",
       "    </tr>\n",
       "    <tr>\n",
       "      <th>2</th>\n",
       "      <td>Sr. Raul Nascimento</td>\n",
       "      <td>42</td>\n",
       "      <td>Setor Elisa Lima, 83 - Solimoes - 77856356 Roc...</td>\n",
       "    </tr>\n",
       "    <tr>\n",
       "      <th>3</th>\n",
       "      <td>Maria Eduarda da Mata</td>\n",
       "      <td>45</td>\n",
       "      <td>Aeroporto Pinto, 535 - Prado - 03176671 Cavalc...</td>\n",
       "    </tr>\n",
       "    <tr>\n",
       "      <th>4</th>\n",
       "      <td>Laís da Rocha</td>\n",
       "      <td>22</td>\n",
       "      <td>Área Valentina Vieira, 4 - Vila Nova Paraíso -...</td>\n",
       "    </tr>\n",
       "    <tr>\n",
       "      <th>5</th>\n",
       "      <td>Thomas Vieira</td>\n",
       "      <td>34</td>\n",
       "      <td>Via da Conceição, 351 - Vila Oeste - 54237-999...</td>\n",
       "    </tr>\n",
       "    <tr>\n",
       "      <th>6</th>\n",
       "      <td>Capucine Coulon</td>\n",
       "      <td>49</td>\n",
       "      <td>11, rue de Rey - 93908 Sainte Paul-sur-Mer</td>\n",
       "    </tr>\n",
       "    <tr>\n",
       "      <th>7</th>\n",
       "      <td>Inès Rolland du Valette</td>\n",
       "      <td>51</td>\n",
       "      <td>1, boulevard Pons - 31349 Hebertnec</td>\n",
       "    </tr>\n",
       "    <tr>\n",
       "      <th>8</th>\n",
       "      <td>Stephany Costa</td>\n",
       "      <td>41</td>\n",
       "      <td>Núcleo Nascimento, 83 - Novo São Lucas - 38386...</td>\n",
       "    </tr>\n",
       "    <tr>\n",
       "      <th>9</th>\n",
       "      <td>Martina Romero Ramirez</td>\n",
       "      <td>69</td>\n",
       "      <td>Calle 163 Bis N° 5638 Local 94 - Resistencia 3...</td>\n",
       "    </tr>\n",
       "  </tbody>\n",
       "</table>\n",
       "</div>"
      ],
      "text/plain": [
       "                       Name  Age  \\\n",
       "ID                                 \n",
       "0         Patricia Mcmillan   43   \n",
       "1           Jeannine Devaux   64   \n",
       "2       Sr. Raul Nascimento   42   \n",
       "3     Maria Eduarda da Mata   45   \n",
       "4             Laís da Rocha   22   \n",
       "5             Thomas Vieira   34   \n",
       "6           Capucine Coulon   49   \n",
       "7   Inès Rolland du Valette   51   \n",
       "8            Stephany Costa   41   \n",
       "9    Martina Romero Ramirez   69   \n",
       "\n",
       "                                              Address  \n",
       "ID                                                     \n",
       "0           05464 Julie Road - East Brandon, DE 90761  \n",
       "1              boulevard de Hardy - 49315 Torresboeuf  \n",
       "2   Setor Elisa Lima, 83 - Solimoes - 77856356 Roc...  \n",
       "3   Aeroporto Pinto, 535 - Prado - 03176671 Cavalc...  \n",
       "4   Área Valentina Vieira, 4 - Vila Nova Paraíso -...  \n",
       "5   Via da Conceição, 351 - Vila Oeste - 54237-999...  \n",
       "6          11, rue de Rey - 93908 Sainte Paul-sur-Mer  \n",
       "7                 1, boulevard Pons - 31349 Hebertnec  \n",
       "8   Núcleo Nascimento, 83 - Novo São Lucas - 38386...  \n",
       "9   Calle 163 Bis N° 5638 Local 94 - Resistencia 3...  "
      ]
     },
     "execution_count": 39,
     "metadata": {},
     "output_type": "execute_result"
    }
   ],
   "source": [
    "df.head(10)"
   ]
  }
 ],
 "metadata": {
  "kernelspec": {
   "display_name": "Python 3 (ipykernel)",
   "language": "python",
   "name": "python3"
  },
  "language_info": {
   "codemirror_mode": {
    "name": "ipython",
    "version": 3
   },
   "file_extension": ".py",
   "mimetype": "text/x-python",
   "name": "python",
   "nbconvert_exporter": "python",
   "pygments_lexer": "ipython3",
   "version": "3.9.7"
  }
 },
 "nbformat": 4,
 "nbformat_minor": 5
}
