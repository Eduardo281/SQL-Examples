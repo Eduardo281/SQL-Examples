{
 "cells": [
  {
   "cell_type": "markdown",
   "id": "7179e07f-1ca5-4840-bb4a-a5a2214e22be",
   "metadata": {},
   "source": [
    "# Before we go...\n",
    "\n",
    "If you have already ran the code, you may need to delete the file \"test.db\" to avoid errors when running it again. The cell below test if this is the case and delete it automatically.\n"
   ]
  },
  {
   "cell_type": "code",
   "execution_count": 1,
   "id": "0217adc4-d325-416e-8057-7c78716ccff1",
   "metadata": {},
   "outputs": [],
   "source": [
    "import os\n",
    "\n",
    "# Looking for test.db and removing it when the file exists:\n",
    "if(os.path.isfile(\"test.db\")):\n",
    "    os.remove(\"test.db\")\n",
    "    print(\"Removed test.db!\")\n"
   ]
  },
  {
   "cell_type": "markdown",
   "id": "6f7f253f-102f-42b1-9964-67190b67405a",
   "metadata": {},
   "source": [
    "# Example - CRUD basics\n",
    "\n",
    "This notebook presents simple examples on how to work with basic SQL CRUD (Create, Read, Update and Delete) functionalities through CREATE, SELECT, UPDATE and DELETE statements.\n",
    "\n",
    "The cell below connects to the \"test.db\" database file, and if the file do not exists it will be created. The CREATE statement can be used to create a new Table on the \"test\" database.\n"
   ]
  },
  {
   "cell_type": "code",
   "execution_count": 2,
   "id": "227212cf-e390-4a56-9ee8-01e54c52c6db",
   "metadata": {},
   "outputs": [
    {
     "name": "stdout",
     "output_type": "stream",
     "text": [
      "Opened database successfully\n",
      "Table created successfully!\n"
     ]
    }
   ],
   "source": [
    "import sqlite3\n",
    "\n",
    "conn = sqlite3.connect('test.db')\n",
    "print (\"Opened database successfully\")\n",
    "\n",
    "try:\n",
    "    conn.execute('''\n",
    "            CREATE TABLE COMPANY\n",
    "             (ID         INT PRIMARY KEY   NOT NULL,\n",
    "             NAME        TEXT              NOT NULL,\n",
    "             AGE         INT               NOT NULL,\n",
    "             ADDRESS     CHAR(50),\n",
    "             SALARY      REAL);\n",
    "        ''')\n",
    "    print(\"Table created successfully!\")\n",
    "except:\n",
    "    print(\"The table could not be created. Please check if it already exists!\")\n",
    "conn.close()"
   ]
  },
  {
   "cell_type": "markdown",
   "id": "b712ad23-7753-4482-8d14-3664ef84aca0",
   "metadata": {},
   "source": [
    "Adding single rows of data to our brand-new table using the INSERT statement. All the commands just need to be written using SQL statements and executed via the execute() function, as we did in the cell above.\n"
   ]
  },
  {
   "cell_type": "code",
   "execution_count": 3,
   "id": "4d7a2b67-e045-41e3-8feb-90f41099a520",
   "metadata": {},
   "outputs": [
    {
     "name": "stdout",
     "output_type": "stream",
     "text": [
      "Opened database successfully\n",
      "Records created successfully\n"
     ]
    }
   ],
   "source": [
    "conn = sqlite3.connect('test.db')\n",
    "print (\"Opened database successfully\")\n",
    "\n",
    "conn.execute(\"INSERT INTO COMPANY (ID,NAME,AGE,ADDRESS,SALARY) \\\n",
    "    VALUES (1, 'George', 30, 'New York', 32000.00 )\")\n",
    "\n",
    "conn.execute(\"INSERT INTO COMPANY (ID,NAME,AGE,ADDRESS,SALARY) \\\n",
    "    VALUES (2, 'Paul', 28, 'Delaware', 25000.00 )\")\n",
    "\n",
    "conn.execute(\"INSERT INTO COMPANY (ID,NAME,AGE,ADDRESS,SALARY) \\\n",
    "    VALUES (3, 'David', 19, 'Kansas', 18000.00 )\")\n",
    "\n",
    "conn.execute(\"INSERT INTO COMPANY (ID,NAME,AGE,ADDRESS,SALARY) \\\n",
    "    VALUES (4, 'Steven', 31, 'Florida', 50000.00 )\")\n",
    "\n",
    "conn.execute(\"INSERT INTO COMPANY (ID,NAME,AGE,ADDRESS,SALARY) \\\n",
    "    VALUES (5, 'John', 27, 'Colorado', 30000.00 )\")\n",
    "\n",
    "conn.commit()\n",
    "print (\"Records created successfully\")\n",
    "conn.close()"
   ]
  },
  {
   "cell_type": "markdown",
   "id": "da220765-b13e-4081-9950-e2a136b65cd8",
   "metadata": {},
   "source": [
    "The new data do not need to be added by single INSERT + execute() calls, but a longer SQL statement can be used.\n"
   ]
  },
  {
   "cell_type": "code",
   "execution_count": 4,
   "id": "6c0d093d-0292-4a18-8940-b705f1311cf7",
   "metadata": {},
   "outputs": [
    {
     "name": "stdout",
     "output_type": "stream",
     "text": [
      "Opened database successfully\n",
      "Records created successfully\n"
     ]
    }
   ],
   "source": [
    "conn = sqlite3.connect('test.db')\n",
    "print (\"Opened database successfully\")\n",
    "\n",
    "conn.execute('''\n",
    "    INSERT INTO COMPANY (ID,NAME,AGE,ADDRESS,SALARY)\n",
    "    VALUES (6, 'Mary', 28, 'Maryland', 35000.00 ),\n",
    "           (7, 'Jefferson', 22, 'Minnesota', 31000.00 ),\n",
    "           (8, 'John', 27, 'Colorado', 30000.00 ),\n",
    "           (9, 'Kim', 29, 'Michigan', 43000.00 ),\n",
    "           (10, 'Anne', 25, 'New York', 25000.00 )\n",
    "''')\n",
    "\n",
    "conn.commit()\n",
    "print (\"Records created successfully\")"
   ]
  },
  {
   "cell_type": "markdown",
   "id": "2f658a5c-cdef-4268-b7e7-b05e0d578401",
   "metadata": {},
   "source": [
    "Let's see how our table is becoming getting its data using a SELECT statement:\n"
   ]
  },
  {
   "cell_type": "code",
   "execution_count": 5,
   "id": "e088699a-c6b9-41ec-8d11-00988ce11b46",
   "metadata": {},
   "outputs": [
    {
     "name": "stdout",
     "output_type": "stream",
     "text": [
      "Opened database successfully\n",
      "(1, 'George', 30, 'New York', 32000.0)\n",
      "(2, 'Paul', 28, 'Delaware', 25000.0)\n",
      "(3, 'David', 19, 'Kansas', 18000.0)\n",
      "(4, 'Steven', 31, 'Florida', 50000.0)\n",
      "(5, 'John', 27, 'Colorado', 30000.0)\n",
      "(6, 'Mary', 28, 'Maryland', 35000.0)\n",
      "(7, 'Jefferson', 22, 'Minnesota', 31000.0)\n",
      "(8, 'John', 27, 'Colorado', 30000.0)\n",
      "(9, 'Kim', 29, 'Michigan', 43000.0)\n",
      "(10, 'Anne', 25, 'New York', 25000.0)\n"
     ]
    }
   ],
   "source": [
    "conn = sqlite3.connect('test.db')\n",
    "print (\"Opened database successfully\")\n",
    "\n",
    "cursor = conn.execute(\"SELECT * FROM COMPANY\")\n",
    "for row in cursor:\n",
    "    print(row)\n",
    "\n",
    "conn.close()"
   ]
  },
  {
   "cell_type": "markdown",
   "id": "3acb5eba",
   "metadata": {},
   "source": [
    "When working with SQL + Python, we can iterate through the SQL cursor like it was a Python tuple:"
   ]
  },
  {
   "cell_type": "code",
   "execution_count": 6,
   "id": "2320f1e2",
   "metadata": {},
   "outputs": [
    {
     "name": "stdout",
     "output_type": "stream",
     "text": [
      "Opened database successfully\n",
      "ID =  1\n",
      "NAME =  George\n",
      "ADDRESS =  New York\n",
      "SALARY =  32000.0 \n",
      "\n",
      "ID =  2\n",
      "NAME =  Paul\n",
      "ADDRESS =  Delaware\n",
      "SALARY =  25000.0 \n",
      "\n",
      "ID =  3\n",
      "NAME =  David\n",
      "ADDRESS =  Kansas\n",
      "SALARY =  18000.0 \n",
      "\n",
      "ID =  4\n",
      "NAME =  Steven\n",
      "ADDRESS =  Florida\n",
      "SALARY =  50000.0 \n",
      "\n",
      "ID =  5\n",
      "NAME =  John\n",
      "ADDRESS =  Colorado\n",
      "SALARY =  30000.0 \n",
      "\n",
      "ID =  6\n",
      "NAME =  Mary\n",
      "ADDRESS =  Maryland\n",
      "SALARY =  35000.0 \n",
      "\n",
      "ID =  7\n",
      "NAME =  Jefferson\n",
      "ADDRESS =  Minnesota\n",
      "SALARY =  31000.0 \n",
      "\n",
      "ID =  8\n",
      "NAME =  John\n",
      "ADDRESS =  Colorado\n",
      "SALARY =  30000.0 \n",
      "\n",
      "ID =  9\n",
      "NAME =  Kim\n",
      "ADDRESS =  Michigan\n",
      "SALARY =  43000.0 \n",
      "\n",
      "ID =  10\n",
      "NAME =  Anne\n",
      "ADDRESS =  New York\n",
      "SALARY =  25000.0 \n",
      "\n"
     ]
    }
   ],
   "source": [
    "conn = sqlite3.connect('test.db')\n",
    "print (\"Opened database successfully\")\n",
    "\n",
    "cursor = conn.execute(\"SELECT id, name, address, salary from COMPANY\")\n",
    "for row in cursor:\n",
    "    print (\"ID = \", row[0])\n",
    "    print (\"NAME = \", row[1])\n",
    "    print (\"ADDRESS = \", row[2])\n",
    "    print (\"SALARY = \", row[3], \"\\n\")\n",
    "\n",
    "conn.close()"
   ]
  },
  {
   "cell_type": "markdown",
   "id": "8fd57f41-47e4-4ddc-8b78-87493b04dbca",
   "metadata": {},
   "source": [
    "We can use the UPDATE statement to change values in a table of a database.\n"
   ]
  },
  {
   "cell_type": "code",
   "execution_count": 7,
   "id": "69b49976-9411-4524-abab-a99191df2ccd",
   "metadata": {},
   "outputs": [
    {
     "name": "stdout",
     "output_type": "stream",
     "text": [
      "Opened database successfully\n",
      "Total number of rows updated : 1\n",
      "(1, 'George', 'New York', 35000.0)\n",
      "(2, 'Paul', 'Delaware', 25000.0)\n",
      "(3, 'David', 'Kansas', 18000.0)\n",
      "(4, 'Steven', 'Florida', 50000.0)\n",
      "(5, 'John', 'Colorado', 30000.0)\n",
      "(6, 'Mary', 'Maryland', 35000.0)\n",
      "(7, 'Jefferson', 'Minnesota', 31000.0)\n",
      "(8, 'John', 'Colorado', 30000.0)\n",
      "(9, 'Kim', 'Michigan', 43000.0)\n",
      "(10, 'Anne', 'New York', 25000.0)\n"
     ]
    }
   ],
   "source": [
    "conn = sqlite3.connect('test.db')\n",
    "print (\"Opened database successfully\")\n",
    "\n",
    "conn.execute(\"UPDATE COMPANY set SALARY = 35000.00 where ID = 1\")\n",
    "conn.commit()\n",
    "print (\"Total number of rows updated :\", conn.total_changes)\n",
    "\n",
    "cursor = conn.execute(\"SELECT id, name, address, salary from COMPANY\")\n",
    "for row in cursor:\n",
    "    print (row)\n",
    "\n",
    "conn.close()"
   ]
  },
  {
   "cell_type": "markdown",
   "id": "c91bca19-8e99-453e-bed3-6ac311e0b61f",
   "metadata": {},
   "source": [
    "Finally, the DELETE statement being used to remove a row from the table."
   ]
  },
  {
   "cell_type": "code",
   "execution_count": 8,
   "id": "86e891a8-7f71-4e1d-8332-3fc18482edf1",
   "metadata": {},
   "outputs": [
    {
     "name": "stdout",
     "output_type": "stream",
     "text": [
      "Opened database successfully\n",
      "Total number of rows deleted : 1\n",
      "(1, 'George', 'New York', 35000.0)\n",
      "(3, 'David', 'Kansas', 18000.0)\n",
      "(4, 'Steven', 'Florida', 50000.0)\n",
      "(5, 'John', 'Colorado', 30000.0)\n",
      "(6, 'Mary', 'Maryland', 35000.0)\n",
      "(7, 'Jefferson', 'Minnesota', 31000.0)\n",
      "(8, 'John', 'Colorado', 30000.0)\n",
      "(9, 'Kim', 'Michigan', 43000.0)\n",
      "(10, 'Anne', 'New York', 25000.0)\n"
     ]
    }
   ],
   "source": [
    "conn = sqlite3.connect('test.db')\n",
    "print (\"Opened database successfully\")\n",
    "\n",
    "conn.execute(\"DELETE from COMPANY where ID = 2;\")\n",
    "conn.commit()\n",
    "print (\"Total number of rows deleted :\", conn.total_changes)\n",
    "\n",
    "cursor = conn.execute(\"SELECT id, name, address, salary from COMPANY\")\n",
    "for row in cursor:\n",
    "    print (row)\n",
    "\n",
    "conn.close()"
   ]
  }
 ],
 "metadata": {
  "kernelspec": {
   "display_name": "Python 3 (ipykernel)",
   "language": "python",
   "name": "python3"
  },
  "language_info": {
   "codemirror_mode": {
    "name": "ipython",
    "version": 3
   },
   "file_extension": ".py",
   "mimetype": "text/x-python",
   "name": "python",
   "nbconvert_exporter": "python",
   "pygments_lexer": "ipython3",
   "version": "3.9.7"
  }
 },
 "nbformat": 4,
 "nbformat_minor": 5
}
